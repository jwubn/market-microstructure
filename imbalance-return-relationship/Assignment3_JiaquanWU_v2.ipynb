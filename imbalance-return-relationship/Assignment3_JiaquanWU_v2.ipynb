{
 "cells": [
  {
   "cell_type": "code",
   "execution_count": 32,
   "metadata": {},
   "outputs": [],
   "source": [
    "import glob\n",
    "import pandas as pd\n",
    "import numpy as np\n",
    "import matplotlib.pyplot as plt\n",
    "trades_600519 = glob.glob('/Users/kuen/Desktop/MICROSTRUTURE/SH600519/trade_SH_600519*.csv')\n",
    "quotes_600519 = glob.glob('/Users/kuen/Desktop/MICROSTRUTURE/SH600519/quote_SH_600519*.csv')\n",
    "trades_601398 = glob.glob('/Users/kuen/Desktop/MICROSTRUTURE/SH601398/trade_SH_601398*.csv')\n",
    "quotes_601398 = glob.glob('/Users/kuen/Desktop/MICROSTRUTURE/SH601398/quote_SH_601398*.csv')\n",
    "trade0519 = pd.concat([pd.read_csv(file) for file in trades_600519], ignore_index=True)\n",
    "quote0519 = pd.concat([pd.read_csv(file) for file in quotes_600519], ignore_index=True)\n",
    "trade1398 = pd.concat([pd.read_csv(file) for file in trades_601398], ignore_index=True)\n",
    "quote1398 = pd.concat([pd.read_csv(file) for file in quotes_601398], ignore_index=True)"
   ]
  },
  {
   "cell_type": "code",
   "execution_count": 2,
   "metadata": {},
   "outputs": [
    {
     "data": {
      "text/html": [
       "<div>\n",
       "<style scoped>\n",
       "    .dataframe tbody tr th:only-of-type {\n",
       "        vertical-align: middle;\n",
       "    }\n",
       "\n",
       "    .dataframe tbody tr th {\n",
       "        vertical-align: top;\n",
       "    }\n",
       "\n",
       "    .dataframe thead th {\n",
       "        text-align: right;\n",
       "    }\n",
       "</style>\n",
       "<table border=\"1\" class=\"dataframe\">\n",
       "  <thead>\n",
       "    <tr style=\"text-align: right;\">\n",
       "      <th></th>\n",
       "      <th>Unnamed: 0</th>\n",
       "      <th>date</th>\n",
       "      <th>id_trade</th>\n",
       "      <th>time</th>\n",
       "      <th>sign</th>\n",
       "      <th>BS</th>\n",
       "      <th>price</th>\n",
       "      <th>ntrade</th>\n",
       "    </tr>\n",
       "  </thead>\n",
       "  <tbody>\n",
       "    <tr>\n",
       "      <th>0</th>\n",
       "      <td>1</td>\n",
       "      <td>20130318</td>\n",
       "      <td>0</td>\n",
       "      <td>92500000</td>\n",
       "      <td>NaN</td>\n",
       "      <td>B</td>\n",
       "      <td>176.9</td>\n",
       "      <td>200</td>\n",
       "    </tr>\n",
       "    <tr>\n",
       "      <th>1</th>\n",
       "      <td>2</td>\n",
       "      <td>20130318</td>\n",
       "      <td>1</td>\n",
       "      <td>92500000</td>\n",
       "      <td>NaN</td>\n",
       "      <td>B</td>\n",
       "      <td>176.9</td>\n",
       "      <td>600</td>\n",
       "    </tr>\n",
       "    <tr>\n",
       "      <th>2</th>\n",
       "      <td>3</td>\n",
       "      <td>20130318</td>\n",
       "      <td>2</td>\n",
       "      <td>92500000</td>\n",
       "      <td>NaN</td>\n",
       "      <td>B</td>\n",
       "      <td>176.9</td>\n",
       "      <td>600</td>\n",
       "    </tr>\n",
       "    <tr>\n",
       "      <th>3</th>\n",
       "      <td>4</td>\n",
       "      <td>20130318</td>\n",
       "      <td>3</td>\n",
       "      <td>92500000</td>\n",
       "      <td>NaN</td>\n",
       "      <td>B</td>\n",
       "      <td>176.9</td>\n",
       "      <td>1000</td>\n",
       "    </tr>\n",
       "    <tr>\n",
       "      <th>4</th>\n",
       "      <td>5</td>\n",
       "      <td>20130318</td>\n",
       "      <td>4</td>\n",
       "      <td>92500000</td>\n",
       "      <td>NaN</td>\n",
       "      <td>B</td>\n",
       "      <td>176.9</td>\n",
       "      <td>4800</td>\n",
       "    </tr>\n",
       "  </tbody>\n",
       "</table>\n",
       "</div>"
      ],
      "text/plain": [
       "   Unnamed: 0      date  id_trade      time  sign BS  price  ntrade\n",
       "0           1  20130318         0  92500000   NaN  B  176.9     200\n",
       "1           2  20130318         1  92500000   NaN  B  176.9     600\n",
       "2           3  20130318         2  92500000   NaN  B  176.9     600\n",
       "3           4  20130318         3  92500000   NaN  B  176.9    1000\n",
       "4           5  20130318         4  92500000   NaN  B  176.9    4800"
      ]
     },
     "execution_count": 2,
     "metadata": {},
     "output_type": "execute_result"
    }
   ],
   "source": [
    "# Brief view of the datasets\n",
    "trade0519.head(5)"
   ]
  },
  {
   "cell_type": "markdown",
   "metadata": {},
   "source": [
    "Question 2:\n",
    "About the Question 2, I would like to use the expecatation attribute of their distribution to calibrate the parameter, but firstly I need to check whether the data is following their distribution. \n",
    "If so, I can calibrate the parameter based on the distribution attribute."
   ]
  },
  {
   "cell_type": "code",
   "execution_count": 2,
   "metadata": {
    "scrolled": true
   },
   "outputs": [],
   "source": [
    "# QUESTION 2\n",
    "# Preparation \n",
    "# Data Cleaning: Fill the missing sign\n",
    "trade0519['sign'] = [1 if trade0519['BS'][i] == 'B' else -1 for i in range(len(trade0519['BS']))]"
   ]
  },
  {
   "cell_type": "code",
   "execution_count": 4,
   "metadata": {},
   "outputs": [
    {
     "name": "stdout",
     "output_type": "stream",
     "text": [
      "   sign      prob\n",
      "0    -1  0.508718\n",
      "1     1  0.491282\n",
      "p = [0.49128232]\n"
     ]
    },
    {
     "data": {
      "image/png": "[encoded data removed]",
      "text/plain": [
       "<Figure size 288x360 with 1 Axes>"
      ]
     },
     "metadata": {
      "needs_background": "light"
     },
     "output_type": "display_data"
    }
   ],
   "source": [
    "# Parameters Calibration\n",
    "# P: Sign follows Bernoulli Process, E(Sign) = 1 * p + (-1) * (1 - p) = 2p - 1\n",
    "sign = trade0519['sign'].value_counts()\n",
    "sign = pd.DataFrame({'sign':sign.index, 'prob': sign/trade0519['sign'].size})\n",
    "sign.reset_index(drop=True, inplace=True)\n",
    "sign_graph = sign.plot.bar(x='sign',y='prob',figsize=(4,5))\n",
    "sign_graph.legend()\n",
    "print(sign)\n",
    "p = sign[sign['sign']==1]['prob'].values\n",
    "print('p =', p)"
   ]
  },
  {
   "cell_type": "markdown",
   "metadata": {},
   "source": [
    "About the Bernoulli distribution, the p parameter is obvious, E(X) = 2p - 1, I get p = 0.49."
   ]
  },
  {
   "cell_type": "code",
   "execution_count": 5,
   "metadata": {
    "scrolled": false
   },
   "outputs": [
    {
     "name": "stdout",
     "output_type": "stream",
     "text": [
      "beta = 0.999999999979196\n"
     ]
    },
    {
     "data": {
      "image/png": "[encoded data removed]",
      "text/plain": [
       "<Figure size 1080x504 with 1 Axes>"
      ]
     },
     "metadata": {
      "needs_background": "light"
     },
     "output_type": "display_data"
    }
   ],
   "source": [
    "# Beta: Size follows Exponential distribution, E(Size) = beta\n",
    "# Normalize Vi\n",
    "trade0519['V_normalized'] = (trade0519['ntrade'] / trade0519['ntrade'].mean())\n",
    "size = trade0519['V_normalized'].value_counts()/trade0519['V_normalized'].size\n",
    "size = pd.DataFrame({'size': size.index, 'prob':size})\n",
    "size.reset_index(drop=True,inplace=True)\n",
    "size.sort_values('size',inplace=True)\n",
    "size['cdf'] = size['prob'].cumsum()\n",
    "size.plot(x='size', y='cdf', figsize=(15,7))\n",
    "beta = 1/trade0519['V_normalized'].mean()\n",
    "print('beta =', beta)"
   ]
  },
  {
   "cell_type": "markdown",
   "metadata": {},
   "source": [
    "As shown in above, the cumulative distribution of data follows the Exponential distribution. \n",
    "So I can calculate the beta based on beta = 1/E(X), get beta = 0.999. approxiamately to 1."
   ]
  },
  {
   "cell_type": "code",
   "execution_count": 3,
   "metadata": {
    "scrolled": false
   },
   "outputs": [
    {
     "name": "stdout",
     "output_type": "stream",
     "text": [
      "lambda_tao = 235.41086040168608\n",
      "lambda = 47.082172080337216 (min-1)\n"
     ]
    },
    {
     "data": {
      "image/png": "[encoded data removed]",
      "text/plain": [
       "<Figure size 1080x504 with 1 Axes>"
      ]
     },
     "metadata": {
      "needs_background": "light"
     },
     "output_type": "display_data"
    }
   ],
   "source": [
    "# Lambda\n",
    "# grouping by time interval tao = 5 mins\n",
    "# Data cleaning for ['time'], for further usage of groupby\n",
    "trade0519['time'] = trade0519['time'].astype(str) \n",
    "trade0519['time'] = trade0519['time'].str[:-5]\n",
    "trade0519['time'] = pd.to_numeric(trade0519['time'])\n",
    "group_N = trade0519.groupby(['date',pd.cut(trade0519['time'], np.arange(925, 1500+5, 5), right=False, include_lowest=True)]).count()\n",
    "group_N = group_N.dropna()\n",
    "group_N = group_N.reindex(columns=['ntrade'])\n",
    "numoftrades = group_N['ntrade'].value_counts()\n",
    "numoftrades = numoftrades/numoftrades.sum()\n",
    "numoftrades = pd.DataFrame({'x':numoftrades.index, 'y':numoftrades})\n",
    "numoftrades.reset_index(drop=True, inplace=True)\n",
    "numoftrades.sort_values('x',inplace=True)\n",
    "numoftrades.plot(x='x',y='y',figsize=(15,7))\n",
    "lambda_tao = group_N['ntrade'].mean()\n",
    "print('lambda_tao =', lambda_tao)\n",
    "lambda_ = lambda_tao / 5\n",
    "print('lambda =', lambda_, '(min-1)')"
   ]
  },
  {
   "cell_type": "code",
   "execution_count": null,
   "metadata": {},
   "outputs": [],
   "source": [
    "As is shown above, the pdf of data follows the poisson distribution, \n",
    "so we can calculate the lambda_tao based on E(X). \n",
    "Then, I divide the lambda_tao by tao to get the lambda of unit of min-1, \n",
    "lambda is 47.09(min-1) or 0.785 (s-1)."
   ]
  },
  {
   "cell_type": "code",
   "execution_count": 7,
   "metadata": {},
   "outputs": [
    {
     "name": "stdout",
     "output_type": "stream",
     "text": [
      "rho = 0.5619542356882613\n"
     ]
    }
   ],
   "source": [
    "# Rho: rho is the correlation of Sign\n",
    "rho = trade0519['sign'].autocorr()\n",
    "print('rho =', rho)"
   ]
  },
  {
   "cell_type": "code",
   "execution_count": null,
   "metadata": {},
   "outputs": [],
   "source": [
    "Because rho^(i-j) = Cov(Si,Sj), I take (i-j) = 1 take get the rho. \n",
    "Rho became Cov(Si, Si+1), i.e the auto-correlation of time series sign, \n",
    "so I use the pd.Series.autocorr() method to get the rho estimate. Rho = 0.562."
   ]
  },
  {
   "cell_type": "code",
   "execution_count": null,
   "metadata": {},
   "outputs": [],
   "source": [
    "Question 3:\n",
    "About the Question 3, I use the trade data as the base and \n",
    "use'date+time+price' as an identifiersuse match the quote data. \n",
    "It would inevitably loss some data, \n",
    "since the two kinds of data is not excatly matched,but in an accepcatable level.\n",
    "And then I calculate the midquote both on the formula (askprice*bidvolume + bidprice*askvolume)/(asksize+bidsize).\n",
    "Finally get the accuracy of the \"Lee and Ready Algorithm\".\n",
    "For 600519 is 0.827.\n",
    "For 601398 is 0.946."
   ]
  },
  {
   "cell_type": "code",
   "execution_count": 33,
   "metadata": {},
   "outputs": [
    {
     "data": {
      "text/html": [
       "<div>\n",
       "<style scoped>\n",
       "    .dataframe tbody tr th:only-of-type {\n",
       "        vertical-align: middle;\n",
       "    }\n",
       "\n",
       "    .dataframe tbody tr th {\n",
       "        vertical-align: top;\n",
       "    }\n",
       "\n",
       "    .dataframe thead th {\n",
       "        text-align: right;\n",
       "    }\n",
       "</style>\n",
       "<table border=\"1\" class=\"dataframe\">\n",
       "  <thead>\n",
       "    <tr style=\"text-align: right;\">\n",
       "      <th></th>\n",
       "      <th>Unnamed: 0</th>\n",
       "      <th>date</th>\n",
       "      <th>id_trade</th>\n",
       "      <th>time</th>\n",
       "      <th>sign</th>\n",
       "      <th>BS</th>\n",
       "      <th>price</th>\n",
       "      <th>ntrade</th>\n",
       "      <th>datetime+price</th>\n",
       "      <th>AskPrice1</th>\n",
       "      <th>AskVolume1</th>\n",
       "      <th>BidPrice1</th>\n",
       "      <th>BidVolume1</th>\n",
       "      <th>midQuote</th>\n",
       "      <th>sign_pred</th>\n",
       "      <th>Accuracy</th>\n",
       "    </tr>\n",
       "  </thead>\n",
       "  <tbody>\n",
       "    <tr>\n",
       "      <th>0</th>\n",
       "      <td>1</td>\n",
       "      <td>20130318</td>\n",
       "      <td>0</td>\n",
       "      <td>9250</td>\n",
       "      <td>1</td>\n",
       "      <td>B</td>\n",
       "      <td>176.9</td>\n",
       "      <td>200</td>\n",
       "      <td>201303189250176.9</td>\n",
       "      <td>176.9</td>\n",
       "      <td>6322</td>\n",
       "      <td>176.88</td>\n",
       "      <td>100</td>\n",
       "      <td>176.880311</td>\n",
       "      <td>1</td>\n",
       "      <td>1</td>\n",
       "    </tr>\n",
       "    <tr>\n",
       "      <th>1</th>\n",
       "      <td>2</td>\n",
       "      <td>20130318</td>\n",
       "      <td>1</td>\n",
       "      <td>9250</td>\n",
       "      <td>1</td>\n",
       "      <td>B</td>\n",
       "      <td>176.9</td>\n",
       "      <td>600</td>\n",
       "      <td>201303189250176.9</td>\n",
       "      <td>176.9</td>\n",
       "      <td>6322</td>\n",
       "      <td>176.88</td>\n",
       "      <td>100</td>\n",
       "      <td>176.880311</td>\n",
       "      <td>1</td>\n",
       "      <td>1</td>\n",
       "    </tr>\n",
       "    <tr>\n",
       "      <th>2</th>\n",
       "      <td>3</td>\n",
       "      <td>20130318</td>\n",
       "      <td>2</td>\n",
       "      <td>9250</td>\n",
       "      <td>1</td>\n",
       "      <td>B</td>\n",
       "      <td>176.9</td>\n",
       "      <td>600</td>\n",
       "      <td>201303189250176.9</td>\n",
       "      <td>176.9</td>\n",
       "      <td>6322</td>\n",
       "      <td>176.88</td>\n",
       "      <td>100</td>\n",
       "      <td>176.880311</td>\n",
       "      <td>1</td>\n",
       "      <td>1</td>\n",
       "    </tr>\n",
       "    <tr>\n",
       "      <th>3</th>\n",
       "      <td>4</td>\n",
       "      <td>20130318</td>\n",
       "      <td>3</td>\n",
       "      <td>9250</td>\n",
       "      <td>1</td>\n",
       "      <td>B</td>\n",
       "      <td>176.9</td>\n",
       "      <td>1000</td>\n",
       "      <td>201303189250176.9</td>\n",
       "      <td>176.9</td>\n",
       "      <td>6322</td>\n",
       "      <td>176.88</td>\n",
       "      <td>100</td>\n",
       "      <td>176.880311</td>\n",
       "      <td>1</td>\n",
       "      <td>1</td>\n",
       "    </tr>\n",
       "    <tr>\n",
       "      <th>4</th>\n",
       "      <td>5</td>\n",
       "      <td>20130318</td>\n",
       "      <td>4</td>\n",
       "      <td>9250</td>\n",
       "      <td>1</td>\n",
       "      <td>B</td>\n",
       "      <td>176.9</td>\n",
       "      <td>4800</td>\n",
       "      <td>201303189250176.9</td>\n",
       "      <td>176.9</td>\n",
       "      <td>6322</td>\n",
       "      <td>176.88</td>\n",
       "      <td>100</td>\n",
       "      <td>176.880311</td>\n",
       "      <td>1</td>\n",
       "      <td>1</td>\n",
       "    </tr>\n",
       "  </tbody>\n",
       "</table>\n",
       "</div>"
      ],
      "text/plain": [
       "   Unnamed: 0      date  id_trade  time  sign BS  price  ntrade  \\\n",
       "0           1  20130318         0  9250     1  B  176.9     200   \n",
       "1           2  20130318         1  9250     1  B  176.9     600   \n",
       "2           3  20130318         2  9250     1  B  176.9     600   \n",
       "3           4  20130318         3  9250     1  B  176.9    1000   \n",
       "4           5  20130318         4  9250     1  B  176.9    4800   \n",
       "\n",
       "      datetime+price  AskPrice1  AskVolume1  BidPrice1  BidVolume1  \\\n",
       "0  201303189250176.9      176.9        6322     176.88         100   \n",
       "1  201303189250176.9      176.9        6322     176.88         100   \n",
       "2  201303189250176.9      176.9        6322     176.88         100   \n",
       "3  201303189250176.9      176.9        6322     176.88         100   \n",
       "4  201303189250176.9      176.9        6322     176.88         100   \n",
       "\n",
       "     midQuote  sign_pred  Accuracy  \n",
       "0  176.880311          1         1  \n",
       "1  176.880311          1         1  \n",
       "2  176.880311          1         1  \n",
       "3  176.880311          1         1  \n",
       "4  176.880311          1         1  "
      ]
     },
     "execution_count": 33,
     "metadata": {},
     "output_type": "execute_result"
    }
   ],
   "source": [
    "# QUESTION 3\n",
    "# Reset the oringial dataset\n",
    "trade0519 = pd.concat([pd.read_csv(file) for file in trades_600519], ignore_index=True)\n",
    "trade0519['sign'] = [1 if trade0519['BS'][i] == 'B' else -1 for i in range(len(trade0519['BS']))]\n",
    "trade0519['time'] = trade0519['time'].astype(str) \n",
    "trade0519['time'] = trade0519['time'].str[:-4]\n",
    "# Set identifier of TradeData\n",
    "trade0519['datetime+price'] = trade0519['date'].astype(str) + trade0519['time'] + trade0519['price'].astype(str)\n",
    "\n",
    "# Set identifier of QuoteData\n",
    "quote0519 = pd.concat([pd.read_csv(file) for file in quotes_600519], ignore_index=True)\n",
    "quote0519['time'] = quote0519['time'].astype(str)\n",
    "quote0519['time'] = quote0519['time'].str[:-1]\n",
    "quote0519['datetime+price'] = quote0519['date'].astype(str) + quote0519['time'].astype(str) + quote0519['price'].astype(str)\n",
    "quote0519 = quote0519.reindex(columns=['datetime+price','AskPrice1','AskVolume1','BidPrice1','BidVolume1'])\n",
    "quote0519.drop_duplicates(subset='datetime+price', inplace = True)\n",
    "\n",
    "total0519 = pd.merge(trade0519, quote0519, how ='inner')\n",
    "total0519['midQuote'] = (total0519['AskPrice1']*total0519['BidVolume1'] + \n",
    "                         total0519['BidPrice1']*total0519['AskVolume1'])/ (total0519['AskVolume1'] + total0519['BidVolume1'])\n",
    "total0519['sign_pred'] = [1 if total0519['price'][i] > total0519['midQuote'][i]\n",
    "                         else 0 if total0519['price'][i] == total0519['midQuote'][i]\n",
    "                         else -1 for i in range(len(total0519['price']))]\n",
    "total0519['Accuracy'] = np.where(total0519['sign']==total0519['sign_pred'], 1, 0)\n",
    "total0519.head(5)"
   ]
  },
  {
   "cell_type": "code",
   "execution_count": 34,
   "metadata": {},
   "outputs": [
    {
     "name": "stdout",
     "output_type": "stream",
     "text": [
      "The Accuracy of Lee and Ready Algorithm in 600519 is: 0.827343428150564\n",
      "The Accuracy of Lee and Ready Algorithm in 601398 is: 0.9461737848829269\n"
     ]
    }
   ],
   "source": [
    "#The Same Calculation Process for 601398\n",
    "\n",
    "#Reset the oringial dataset\n",
    "trade1398 = pd.concat([pd.read_csv(file) for file in trades_601398], ignore_index=True)\n",
    "trade1398['sign'] = [1 if trade1398['BS'][i] == 'B' else -1 for i in range(len(trade1398['BS']))]\n",
    "trade1398['time'] = trade1398['time'].astype(str) \n",
    "trade1398['time'] = trade1398['time'].str[:-4]\n",
    "# Set identifier of TradeData\n",
    "trade1398['datetime+price'] = trade1398['date'].astype(str) + trade1398['time'] + trade1398['price'].astype(str)\n",
    "\n",
    "# Set identifier of QuoteData\n",
    "quote1398 = pd.concat([pd.read_csv(file) for file in quotes_601398], ignore_index=True)\n",
    "quote1398['time'] = quote1398['time'].astype(str)\n",
    "quote1398['time'] = quote1398['time'].str[:-1]\n",
    "quote1398['datetime+price'] = quote1398['date'].astype(str) + quote1398['time'].astype(str) + quote1398['price'].astype(str)\n",
    "quote1398 = quote1398.reindex(columns=['datetime+price','AskPrice1','AskVolume1','BidPrice1','BidVolume1'])\n",
    "quote1398.drop_duplicates(subset='datetime+price', inplace = True)\n",
    "\n",
    "total1398 = pd.merge(trade1398, quote1398, how ='inner')\n",
    "total1398['midQuote'] = (total1398['AskPrice1']*total1398['BidVolume1'] + \n",
    "                         total1398['BidPrice1']*total1398['AskVolume1'])/ (total1398['AskVolume1'] + total1398['BidVolume1'])\n",
    "total1398['sign_pred'] = [1 if total1398['price'][i] > total1398['midQuote'][i]\n",
    "                         else 0 if total1398['price'][i] == total1398['midQuote'][i]\n",
    "                         else -1 for i in range(len(total1398['price']))]\n",
    "\n",
    "total1398['Accuracy'] = np.where(total1398['sign']==total1398['sign_pred'], 1, 0)\n",
    "\n",
    "# Calculate Result\n",
    "accuracy0519 = total0519['Accuracy'].sum()/ total0519.count()[0]\n",
    "accuracy1398 = total1398['Accuracy'].sum()/ total1398.count()[0]\n",
    "print('The Accuracy of Lee and Ready Algorithm in 600519 is:',accuracy0519)\n",
    "print('The Accuracy of Lee and Ready Algorithm in 601398 is:',accuracy1398)"
   ]
  },
  {
   "cell_type": "code",
   "execution_count": null,
   "metadata": {},
   "outputs": [],
   "source": [
    "Question 4:\n",
    "About the Question 4, I use the dataset of Q3, since I calculate the midquote as the same formula.\n",
    "Group by time interval with different interval (1 and 5 mins) to \n",
    "calculate the sum of IMB.divide the data into two groups: Positive IMB and Negative IMB.\n",
    "And in the end, use curve_fit function of scipy.optimize to fit the parameter to compare."
   ]
  },
  {
   "cell_type": "code",
   "execution_count": 31,
   "metadata": {},
   "outputs": [
    {
     "name": "stdout",
     "output_type": "stream",
     "text": [
      "Stock 600519\n",
      "For Tao = 1 min(s):\n",
      "Beta_Positive for 1 min(s): 0.9691311569995028\n",
      "Gamma_Positive for 1 min(s): [-0.06643271]\n",
      "Beta_Negative for 1 min(s): 1.0489573845148228\n",
      "Gamma_Negative for 1 min(s): [-0.01503149] \n",
      "\n",
      "For Tao = 5 min(s):\n",
      "Beta_Positive for 5 min(s): 0.9671814719085113\n",
      "Gamma_Positive for 5 min(s): [-0.08638487]\n",
      "Beta_Negative for 5 min(s): 1.056750544474975\n",
      "Gamma_Negative for 5 min(s): [-0.04240920] \n",
      "\n"
     ]
    }
   ],
   "source": [
    "# Question 4\n",
    "# For 600519\n",
    "print('Stock 600519')\n",
    "for i in [1,5]:\n",
    "    print('For Tao =', i, 'min(s):')\n",
    "    # normalize size\n",
    "    total0519['V_normalized'] = total0519['ntrade']/ total0519['ntrade'].mean()\n",
    "    total0519['IMB'] = total0519['sign'] * total0519['V_normalized']\n",
    "\n",
    "    # calculate Ret\n",
    "    Ret0519 = total0519.reindex(columns=['date','time','midQuote'])\n",
    "    Ret0519['time'] = Ret0519['time'].str[:-1]\n",
    "    Ret0519['time'] = pd.to_numeric(Ret0519['time'])\n",
    "    Ret0519 = Ret0519.groupby(['date',pd.cut(Ret0519['time'], np.arange(925, 1500+i, i),right=False, include_lowest=True)]\n",
    "                     ).midQuote.apply(lambda x:(x.tail(1).values[0]-x.head(1).values[0])/x.head(1).values[0])\n",
    "    Ret0519 = Ret0519.dropna()\n",
    "    \n",
    "    IMBnSize0519 = total0519.reindex(columns=['date','time','IMB','V_normalized'])\n",
    "    IMBnSize0519['time'] = IMBnSize0519['time'].str[:-1]\n",
    "    IMBnSize0519['time'] = pd.to_numeric(IMBnSize0519['time'])\n",
    "    IMBnSize0519 = IMBnSize0519.groupby(['date',pd.cut(IMBnSize0519['time'], np.arange(925, 1500+i, i), \n",
    "                                               right=False, include_lowest=True)]\n",
    "                                               ).agg({'IMB': 'sum', 'V_normalized':['size', 'sum']})\n",
    "    \n",
    "    IMBnSize0519 = IMBnSize0519.dropna()\n",
    "\n",
    "    concat0519 = pd.concat([IMBnSize0519, Ret0519],axis=1)\n",
    "    concat0519.columns = ['IMB','V_size','V_sum','Ret0519']\n",
    "    concat0519 = concat0519[~concat0519.isin([np.nan, np.inf, -np.inf]).any(1)]\n",
    "    concat0519['sign_IMB'] = [1 if concat0519['IMB'][i] > 0 else -1 for i in range(len(concat0519['IMB']))]\n",
    "    vol0519 = concat0519['Ret0519'].std()\n",
    "    \n",
    "    positive = concat0519[concat0519['sign_IMB'] == 1]\n",
    "    beta_positive = 1/(positive['V_sum'].sum()/ positive['V_size'].sum())\n",
    "    print('Beta_Positive for',i,'min(s):', beta_positive)\n",
    "    \n",
    "    def RetModel_Positive(IMB,gamma):\n",
    "        beta = beta_positive\n",
    "        vol = vol0519\n",
    "        return beta*vol*(abs(IMB)**gamma)\n",
    "    \n",
    "    from scipy.optimize import curve_fit\n",
    "    fit_gamma = curve_fit(RetModel_Positive, positive['IMB'], positive['Ret0519'])\n",
    "    print('Gamma_Positive for',i,'min(s):', fit_gamma[0])\n",
    "    \n",
    "    negative = concat0519[concat0519['sign_IMB'] == -1]\n",
    "    beta_negative = 1/(negative['V_sum'].sum()/ negative['V_size'].sum())\n",
    "    print('Beta_Negative for',i,'min(s):', beta_negative)\n",
    "    \n",
    "    def RetModel_negative(IMB,gamma):\n",
    "        beta = beta_negative\n",
    "        vol = vol0519\n",
    "        return beta*vol*(abs(IMB)**gamma)\n",
    "    \n",
    "    from scipy.optimize import curve_fit\n",
    "    fit_gamma = curve_fit(RetModel_negative, negative['IMB'], negative['Ret0519'])\n",
    "    print('Gamma_Negative for',i,'min(s):', fit_gamma[0],'\\n')"
   ]
  },
  {
   "cell_type": "code",
   "execution_count": 29,
   "metadata": {},
   "outputs": [
    {
     "name": "stdout",
     "output_type": "stream",
     "text": [
      "Stock 601398\n",
      "For Tao = 1 min(s):\n",
      "Beta_Positive for 1 min(s): 0.9611842340043053\n",
      "Gamma_Positive for 1 min(s): [0.03481298]\n",
      "Beta_Negative for 1 min(s): 1.0354858125746629\n",
      "Gamma_Negative for 1 min(s): [-0.03924121] \n",
      "\n",
      "For Tao = 5 min(s):\n",
      "Beta_Positive for 5 min(s): 0.9641772245148831\n",
      "Gamma_Positive for 5 min(s): [0.025937092]\n",
      "Beta_Negative for 5 min(s): 1.0318807543122237\n",
      "Gamma_Negative for 5 min(s): [-0.05078973] \n",
      "\n"
     ]
    }
   ],
   "source": [
    "# For 601398\n",
    "print('Stock 601398')\n",
    "for i in [1,5]:\n",
    "    print('For Tao =', i, 'min(s):')\n",
    "    # normalize size\n",
    "    total1398['V_normalized'] = total1398['ntrade']/ total1398['ntrade'].mean()\n",
    "    total1398['IMB'] = total1398['sign'] * total1398['V_normalized']\n",
    "\n",
    "    # calculate Ret\n",
    "    Ret1398 = total1398.reindex(columns=['date','time','midQuote'])\n",
    "    Ret1398['time'] = Ret1398['time'].str[:-1]\n",
    "    Ret1398['time'] = pd.to_numeric(Ret1398['time'])\n",
    "    Ret1398 = Ret1398.groupby(['date',pd.cut(Ret1398['time'], np.arange(925, 1500+i, i),right=False, include_lowest=True)]\n",
    "                     ).midQuote.apply(lambda x:100*(x.tail(1).values[0]-x.head(1).values[0])/x.head(1).values[0])\n",
    "    Ret1398 = Ret1398.dropna()\n",
    "    \n",
    "    IMBnSize1398 = total1398.reindex(columns=['date','time','IMB','V_normalized'])\n",
    "    IMBnSize1398['time'] = IMBnSize1398['time'].str[:-1]\n",
    "    IMBnSize1398['time'] = pd.to_numeric(IMBnSize1398['time'])\n",
    "    IMBnSize1398 = IMBnSize1398.groupby(['date',pd.cut(IMBnSize1398['time'], np.arange(925, 1500+i, i), \n",
    "                                               right=False, include_lowest=True)]\n",
    "                                               ).agg({'IMB': 'sum', 'V_normalized':['size', 'sum']})\n",
    "    \n",
    "    IMBnSize1398 = IMBnSize1398.dropna()\n",
    "\n",
    "    concat1398 = pd.concat([IMBnSize1398, Ret1398],axis=1)\n",
    "    concat1398.columns = ['IMB','V_size','V_sum','Ret1398']\n",
    "    concat1398['sign_IMB'] = [1 if concat1398['IMB'][i] > 0 else -1 for i in range(len(concat1398['IMB']))]\n",
    "    vol1398 = concat1398['Ret1398'].std()\n",
    "    concat1398 = concat1398[~concat1398.isin([np.nan, np.inf, -np.inf]).any(1)]\n",
    "    \n",
    "    positive = concat1398[concat1398['sign_IMB'] == 1]\n",
    "    beta_positive = 1/(positive['V_sum'].sum()/ positive['V_size'].sum())\n",
    "    print('Beta_Positive for',i,'min(s):', beta_positive)\n",
    "    \n",
    "    def RetModel_Positive(IMB,gamma):\n",
    "        beta = beta_positive\n",
    "        vol = vol1398\n",
    "        return beta*vol*(abs(IMB)**gamma)\n",
    "    \n",
    "    from scipy.optimize import curve_fit\n",
    "    fit_gamma = curve_fit(RetModel_Positive, positive['IMB'], positive['Ret1398'])\n",
    "    print('Gamma_Positive for',i,'min(s):', fit_gamma[0])\n",
    "\n",
    "    negative = concat1398[concat1398['sign_IMB'] == -1]\n",
    "    beta_negative = 1/(negative['V_sum'].sum()/ negative['V_size'].sum())\n",
    "    print('Beta_Negative for',i,'min(s):', beta_negative)\n",
    "    \n",
    "    def RetModel_negative(IMB,gamma):\n",
    "        beta = beta_negative\n",
    "        vol = vol1398\n",
    "        return beta*vol*(abs(IMB)**gamma)\n",
    "    \n",
    "    from scipy.optimize import curve_fit\n",
    "    fit_gamma = curve_fit(RetModel_negative, negative['IMB'], negative['Ret1398'])\n",
    "    print('Gamma_Negative for',i,'min(s):', fit_gamma[0],'\\n')"
   ]
  },
  {
   "cell_type": "markdown",
   "metadata": {},
   "source": [
    "Compare and Comment: For both the stock 600519 and 601398, \n",
    "(1) The Beta_Positive and Beta_Negative of different time intervals are very approximate to 1.\n",
    "(2) With the increase of time interval, the Beta_Negative becomes larger.\n",
    "(3) The Beta_Negative is obviously larger than the Beta_Positive, when Beta_Negative is larger than 1 and Beta_Positive is smaller than 1.\n",
    "(4) Most of the Gammas are less than 0 \n",
    "(5) Gamma_Positive is slight larger than Gamma_Neagative. "
   ]
  }
 ],
 "metadata": {
  "kernelspec": {
   "display_name": "Python 3",
   "language": "python",
   "name": "python3"
  },
  "language_info": {
   "codemirror_mode": {
    "name": "ipython",
    "version": 3
   },
   "file_extension": ".py",
   "mimetype": "text/x-python",
   "name": "python",
   "nbconvert_exporter": "python",
   "pygments_lexer": "ipython3",
   "version": "3.7.1"
  }
 },
 "nbformat": 4,
 "nbformat_minor": 2
}
